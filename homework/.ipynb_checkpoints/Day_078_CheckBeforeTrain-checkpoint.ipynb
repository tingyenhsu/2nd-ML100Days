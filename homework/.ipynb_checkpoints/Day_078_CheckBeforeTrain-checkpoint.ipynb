{
 "cells": [
  {
   "cell_type": "markdown",
   "metadata": {},
   "source": [
    "## 範例重點\n",
    "### 學習在模型開始前檢查各個環節\n",
    "1. 是否有 GPU 資源\n",
    "2. 將前處理轉為函式，統一處理訓練、驗證與測試集\n",
    "3. 將超參數變數化，易於重複使用函式、模型等"
   ]
  },
  {
   "cell_type": "code",
   "execution_count": null,
   "metadata": {
    "collapsed": true
   },
   "outputs": [],
   "source": [
    "## 確認硬體資源 (如果你是在 Linux, 若是在 Windows, 請參考 https://blog.csdn.net/idwtwt/article/details/78017565)\n",
    "!nvidia-smi"
   ]
  },
  {
   "cell_type": "code",
   "execution_count": 3,
   "metadata": {},
   "outputs": [],
   "source": [
    "import os\n",
    "import keras\n",
    "\n",
    "# 本範例不需使用 GPU, 將 GPU 設定為 \"無\"\n",
    "os.environ[\"CUDA_VISIBLE_DEVICES\"] = ''"
   ]
  },
  {
   "cell_type": "code",
   "execution_count": 4,
   "metadata": {
    "collapsed": true
   },
   "outputs": [],
   "source": [
    "# 從 Keras 的內建功能中，取得 train 與 test 資料集\n",
    "train, test = keras.datasets.cifar10.load_data()"
   ]
  },
  {
   "cell_type": "code",
   "execution_count": 5,
   "metadata": {
    "collapsed": true
   },
   "outputs": [],
   "source": [
    "## 資料前處理\n",
    "def preproc_x(x, flatten=True):\n",
    "    x = x / 255.\n",
    "    if flatten:\n",
    "        x = x.reshape((len(x), -1))\n",
    "    return x\n",
    "\n",
    "def preproc_y(y, num_classes=10):\n",
    "    if y.shape[-1] == 1:\n",
    "        y = keras.utils.to_categorical(y, num_classes)\n",
    "    return y    "
   ]
  },
  {
   "cell_type": "code",
   "execution_count": 6,
   "metadata": {
    "collapsed": true
   },
   "outputs": [],
   "source": [
    "x_train, y_train = train\n",
    "x_test, y_test = test\n",
    "\n",
    "# 資料前處理 - X 標準化\n",
    "x_train = preproc_x(x_train)\n",
    "x_test = preproc_x(x_test)\n",
    "\n",
    "# 資料前處理 -Y 轉成 onehot\n",
    "y_train = preproc_y(y_train)\n",
    "y_test = preproc_y(y_test)"
   ]
  },
  {
   "cell_type": "code",
   "execution_count": 7,
   "metadata": {
    "collapsed": true
   },
   "outputs": [],
   "source": [
    "def build_mlp(input_shape, output_units=10, num_neurons=[512, 256, 128]):\n",
    "    input_layer = keras.layers.Input(input_shape)\n",
    "    \n",
    "    for i, n_units in enumerate(num_neurons):\n",
    "        if i == 0:\n",
    "            x = keras.layers.Dense(units=n_units, activation=\"relu\", name=\"hidden_layer\"+str(i+1))(input_layer)\n",
    "        else:\n",
    "            x = keras.layers.Dense(units=n_units, activation=\"relu\", name=\"hidden_layer\"+str(i+1))(x)\n",
    "    \n",
    "    out = keras.layers.Dense(units=output_units, activation=\"softmax\", name=\"output\")(x)\n",
    "    \n",
    "    model = keras.models.Model(inputs=[input_layer], outputs=[out])\n",
    "    return model"
   ]
  },
  {
   "cell_type": "code",
   "execution_count": 8,
   "metadata": {},
   "outputs": [
    {
     "name": "stdout",
     "output_type": "stream",
     "text": [
      "WARNING:tensorflow:From C:\\ProgramData\\Anaconda3\\lib\\site-packages\\tensorflow\\python\\framework\\op_def_library.py:263: colocate_with (from tensorflow.python.framework.ops) is deprecated and will be removed in a future version.\n",
      "Instructions for updating:\n",
      "Colocations handled automatically by placer.\n",
      "_________________________________________________________________\n",
      "Layer (type)                 Output Shape              Param #   \n",
      "=================================================================\n",
      "input_1 (InputLayer)         (None, 3072)              0         \n",
      "_________________________________________________________________\n",
      "hidden_layer1 (Dense)        (None, 512)               1573376   \n",
      "_________________________________________________________________\n",
      "hidden_layer2 (Dense)        (None, 256)               131328    \n",
      "_________________________________________________________________\n",
      "hidden_layer3 (Dense)        (None, 128)               32896     \n",
      "_________________________________________________________________\n",
      "output (Dense)               (None, 10)                1290      \n",
      "=================================================================\n",
      "Total params: 1,738,890\n",
      "Trainable params: 1,738,890\n",
      "Non-trainable params: 0\n",
      "_________________________________________________________________\n"
     ]
    }
   ],
   "source": [
    "model = build_mlp(input_shape=x_train.shape[1:])\n",
    "model.summary()"
   ]
  },
  {
   "cell_type": "code",
   "execution_count": 9,
   "metadata": {
    "collapsed": true
   },
   "outputs": [],
   "source": [
    "## 超參數設定\n",
    "LEARNING_RATE = 0.001\n",
    "EPOCHS = 100\n",
    "BATCH_SIZE = 256"
   ]
  },
  {
   "cell_type": "code",
   "execution_count": 10,
   "metadata": {
    "collapsed": true
   },
   "outputs": [],
   "source": [
    "optimizer = keras.optimizers.Adam(lr=LEARNING_RATE)\n",
    "model.compile(loss=\"categorical_crossentropy\", metrics=[\"accuracy\"], optimizer=optimizer)"
   ]
  },
  {
   "cell_type": "code",
   "execution_count": 11,
   "metadata": {},
   "outputs": [
    {
     "name": "stdout",
     "output_type": "stream",
     "text": [
      "WARNING:tensorflow:From C:\\ProgramData\\Anaconda3\\lib\\site-packages\\tensorflow\\python\\ops\\math_ops.py:3066: to_int32 (from tensorflow.python.ops.math_ops) is deprecated and will be removed in a future version.\n",
      "Instructions for updating:\n",
      "Use tf.cast instead.\n",
      "Train on 50000 samples, validate on 10000 samples\n",
      "Epoch 1/100\n",
      "50000/50000 [==============================] - 19s 375us/step - loss: 1.9182 - acc: 0.3068 - val_loss: 1.7708 - val_acc: 0.3637\n",
      "Epoch 2/100\n",
      "50000/50000 [==============================] - 18s 365us/step - loss: 1.7056 - acc: 0.3895 - val_loss: 1.6766 - val_acc: 0.4036\n",
      "Epoch 3/100\n",
      "50000/50000 [==============================] - 18s 358us/step - loss: 1.6229 - acc: 0.4207 - val_loss: 1.6369 - val_acc: 0.4101\n",
      "Epoch 4/100\n",
      "50000/50000 [==============================] - 18s 351us/step - loss: 1.5527 - acc: 0.4467 - val_loss: 1.5358 - val_acc: 0.4534\n",
      "Epoch 5/100\n",
      "50000/50000 [==============================] - 18s 355us/step - loss: 1.5046 - acc: 0.4616 - val_loss: 1.5304 - val_acc: 0.4578\n",
      "Epoch 6/100\n",
      "50000/50000 [==============================] - 18s 351us/step - loss: 1.4807 - acc: 0.4730 - val_loss: 1.4904 - val_acc: 0.4709\n",
      "Epoch 7/100\n",
      "50000/50000 [==============================] - 17s 346us/step - loss: 1.4394 - acc: 0.4871 - val_loss: 1.5763 - val_acc: 0.4358\n",
      "Epoch 8/100\n",
      "50000/50000 [==============================] - 18s 351us/step - loss: 1.4167 - acc: 0.4932 - val_loss: 1.4864 - val_acc: 0.4675\n",
      "Epoch 9/100\n",
      "50000/50000 [==============================] - 18s 352us/step - loss: 1.3804 - acc: 0.5094 - val_loss: 1.4495 - val_acc: 0.4876\n",
      "Epoch 10/100\n",
      "50000/50000 [==============================] - 17s 350us/step - loss: 1.3598 - acc: 0.5150 - val_loss: 1.4250 - val_acc: 0.4962\n",
      "Epoch 11/100\n",
      "50000/50000 [==============================] - 17s 340us/step - loss: 1.3303 - acc: 0.5278 - val_loss: 1.4300 - val_acc: 0.4954\n",
      "Epoch 12/100\n",
      "50000/50000 [==============================] - 19s 370us/step - loss: 1.3045 - acc: 0.5378 - val_loss: 1.3965 - val_acc: 0.5026\n",
      "Epoch 13/100\n",
      "50000/50000 [==============================] - 18s 366us/step - loss: 1.2825 - acc: 0.5437 - val_loss: 1.4366 - val_acc: 0.4981\n",
      "Epoch 14/100\n",
      "50000/50000 [==============================] - 18s 358us/step - loss: 1.2677 - acc: 0.5479 - val_loss: 1.3943 - val_acc: 0.5068\n",
      "Epoch 15/100\n",
      "50000/50000 [==============================] - 17s 348us/step - loss: 1.2453 - acc: 0.5565 - val_loss: 1.3772 - val_acc: 0.5098\n",
      "Epoch 16/100\n",
      "50000/50000 [==============================] - 17s 340us/step - loss: 1.2215 - acc: 0.5645 - val_loss: 1.3977 - val_acc: 0.5086\n",
      "Epoch 17/100\n",
      "50000/50000 [==============================] - 17s 345us/step - loss: 1.2041 - acc: 0.5741 - val_loss: 1.3592 - val_acc: 0.5236\n",
      "Epoch 18/100\n",
      "50000/50000 [==============================] - 17s 344us/step - loss: 1.1891 - acc: 0.5776 - val_loss: 1.3902 - val_acc: 0.5131\n",
      "Epoch 19/100\n",
      "50000/50000 [==============================] - 18s 356us/step - loss: 1.1597 - acc: 0.5850 - val_loss: 1.3705 - val_acc: 0.5175\n",
      "Epoch 20/100\n",
      "50000/50000 [==============================] - 17s 343us/step - loss: 1.1401 - acc: 0.5946 - val_loss: 1.4051 - val_acc: 0.5158\n",
      "Epoch 21/100\n",
      "50000/50000 [==============================] - 17s 349us/step - loss: 1.1199 - acc: 0.6003 - val_loss: 1.4153 - val_acc: 0.5115\n",
      "Epoch 22/100\n",
      "50000/50000 [==============================] - 18s 353us/step - loss: 1.1051 - acc: 0.6060 - val_loss: 1.4028 - val_acc: 0.5128\n",
      "Epoch 23/100\n",
      "50000/50000 [==============================] - 18s 355us/step - loss: 1.0864 - acc: 0.6126 - val_loss: 1.3722 - val_acc: 0.5274\n",
      "Epoch 24/100\n",
      "50000/50000 [==============================] - 18s 356us/step - loss: 1.0722 - acc: 0.6189 - val_loss: 1.3577 - val_acc: 0.5288\n",
      "Epoch 25/100\n",
      "50000/50000 [==============================] - 20s 397us/step - loss: 1.0465 - acc: 0.6273 - val_loss: 1.3882 - val_acc: 0.5242\n",
      "Epoch 26/100\n",
      "50000/50000 [==============================] - 35s 706us/step - loss: 1.0337 - acc: 0.6326 - val_loss: 1.3990 - val_acc: 0.5220\n",
      "Epoch 27/100\n",
      "50000/50000 [==============================] - 35s 697us/step - loss: 1.0144 - acc: 0.6372 - val_loss: 1.3767 - val_acc: 0.5272\n",
      "Epoch 28/100\n",
      "50000/50000 [==============================] - 37s 732us/step - loss: 0.9943 - acc: 0.6454 - val_loss: 1.4194 - val_acc: 0.5205\n",
      "Epoch 29/100\n",
      "50000/50000 [==============================] - 32s 635us/step - loss: 0.9755 - acc: 0.6529 - val_loss: 1.4104 - val_acc: 0.5292\n",
      "Epoch 30/100\n",
      "50000/50000 [==============================] - 31s 626us/step - loss: 0.9574 - acc: 0.6596 - val_loss: 1.4328 - val_acc: 0.5231\n",
      "Epoch 31/100\n",
      "50000/50000 [==============================] - 32s 645us/step - loss: 0.9281 - acc: 0.6715 - val_loss: 1.4722 - val_acc: 0.5180\n",
      "Epoch 32/100\n",
      "50000/50000 [==============================] - 32s 636us/step - loss: 0.9308 - acc: 0.6678 - val_loss: 1.4613 - val_acc: 0.5198\n",
      "Epoch 33/100\n",
      "50000/50000 [==============================] - 32s 631us/step - loss: 0.9009 - acc: 0.6795 - val_loss: 1.5024 - val_acc: 0.5099\n",
      "Epoch 34/100\n",
      "50000/50000 [==============================] - 32s 637us/step - loss: 0.8833 - acc: 0.6846 - val_loss: 1.4734 - val_acc: 0.5227\n",
      "Epoch 35/100\n",
      "50000/50000 [==============================] - 33s 652us/step - loss: 0.8756 - acc: 0.6864 - val_loss: 1.4726 - val_acc: 0.5274\n",
      "Epoch 36/100\n",
      "50000/50000 [==============================] - 35s 708us/step - loss: 0.8537 - acc: 0.6966 - val_loss: 1.4970 - val_acc: 0.5218\n",
      "Epoch 37/100\n",
      "50000/50000 [==============================] - 37s 739us/step - loss: 0.8421 - acc: 0.7005 - val_loss: 1.5090 - val_acc: 0.5210\n",
      "Epoch 38/100\n",
      "50000/50000 [==============================] - 35s 705us/step - loss: 0.8285 - acc: 0.7040 - val_loss: 1.5241 - val_acc: 0.5235\n",
      "Epoch 39/100\n",
      "50000/50000 [==============================] - 35s 696us/step - loss: 0.8001 - acc: 0.7147 - val_loss: 1.5370 - val_acc: 0.5314\n",
      "Epoch 40/100\n",
      "50000/50000 [==============================] - 35s 709us/step - loss: 0.7897 - acc: 0.7187 - val_loss: 1.5712 - val_acc: 0.5218\n",
      "Epoch 41/100\n",
      "50000/50000 [==============================] - 35s 697us/step - loss: 0.7773 - acc: 0.7225 - val_loss: 1.6089 - val_acc: 0.5138\n",
      "Epoch 42/100\n",
      "50000/50000 [==============================] - 33s 660us/step - loss: 0.7561 - acc: 0.7303 - val_loss: 1.5996 - val_acc: 0.5166\n",
      "Epoch 43/100\n",
      "50000/50000 [==============================] - 33s 658us/step - loss: 0.7420 - acc: 0.7355 - val_loss: 1.6362 - val_acc: 0.5190\n",
      "Epoch 44/100\n",
      "50000/50000 [==============================] - 32s 639us/step - loss: 0.7353 - acc: 0.7368 - val_loss: 1.5943 - val_acc: 0.5304\n",
      "Epoch 45/100\n",
      "50000/50000 [==============================] - 33s 651us/step - loss: 0.7107 - acc: 0.7464 - val_loss: 1.6341 - val_acc: 0.5272\n",
      "Epoch 46/100\n",
      "50000/50000 [==============================] - 35s 708us/step - loss: 0.7002 - acc: 0.7501 - val_loss: 1.7067 - val_acc: 0.5080\n",
      "Epoch 47/100\n",
      "50000/50000 [==============================] - 35s 698us/step - loss: 0.6906 - acc: 0.7545 - val_loss: 1.6879 - val_acc: 0.5208\n",
      "Epoch 48/100\n",
      "50000/50000 [==============================] - 32s 643us/step - loss: 0.6859 - acc: 0.7551 - val_loss: 1.7410 - val_acc: 0.5171\n",
      "Epoch 49/100\n",
      "50000/50000 [==============================] - 34s 681us/step - loss: 0.6648 - acc: 0.7623 - val_loss: 1.7228 - val_acc: 0.5214\n",
      "Epoch 50/100\n",
      "50000/50000 [==============================] - 36s 728us/step - loss: 0.6626 - acc: 0.7638 - val_loss: 1.7123 - val_acc: 0.5223\n",
      "Epoch 51/100\n",
      "50000/50000 [==============================] - 33s 654us/step - loss: 0.6340 - acc: 0.7738 - val_loss: 1.7713 - val_acc: 0.5226\n",
      "Epoch 52/100\n",
      "50000/50000 [==============================] - 31s 625us/step - loss: 0.6316 - acc: 0.7748 - val_loss: 1.7851 - val_acc: 0.5134\n",
      "Epoch 53/100\n",
      "50000/50000 [==============================] - 32s 633us/step - loss: 0.6180 - acc: 0.7799 - val_loss: 1.8209 - val_acc: 0.5173\n",
      "Epoch 54/100\n",
      "50000/50000 [==============================] - 34s 684us/step - loss: 0.5897 - acc: 0.7896 - val_loss: 1.8664 - val_acc: 0.5192\n",
      "Epoch 55/100\n",
      "50000/50000 [==============================] - 33s 654us/step - loss: 0.5952 - acc: 0.7881 - val_loss: 1.8630 - val_acc: 0.5209\n",
      "Epoch 56/100\n",
      "50000/50000 [==============================] - 35s 696us/step - loss: 0.5822 - acc: 0.7913 - val_loss: 1.8817 - val_acc: 0.5157\n"
     ]
    },
    {
     "name": "stdout",
     "output_type": "stream",
     "text": [
      "Epoch 57/100\n",
      "50000/50000 [==============================] - 35s 694us/step - loss: 0.5688 - acc: 0.7987 - val_loss: 1.9454 - val_acc: 0.5113\n",
      "Epoch 58/100\n",
      "50000/50000 [==============================] - 32s 645us/step - loss: 0.5574 - acc: 0.8021 - val_loss: 1.9343 - val_acc: 0.5114\n",
      "Epoch 59/100\n",
      "50000/50000 [==============================] - 33s 656us/step - loss: 0.5398 - acc: 0.8074 - val_loss: 2.0398 - val_acc: 0.5055\n",
      "Epoch 60/100\n",
      "50000/50000 [==============================] - 32s 646us/step - loss: 0.5279 - acc: 0.8116 - val_loss: 2.0243 - val_acc: 0.5060\n",
      "Epoch 61/100\n",
      "50000/50000 [==============================] - 32s 637us/step - loss: 0.5218 - acc: 0.8141 - val_loss: 2.0041 - val_acc: 0.5086\n",
      "Epoch 62/100\n",
      "50000/50000 [==============================] - 33s 666us/step - loss: 0.5125 - acc: 0.8181 - val_loss: 2.0690 - val_acc: 0.5095\n",
      "Epoch 63/100\n",
      "50000/50000 [==============================] - 36s 720us/step - loss: 0.4983 - acc: 0.8218 - val_loss: 2.0458 - val_acc: 0.5217\n",
      "Epoch 64/100\n",
      "50000/50000 [==============================] - 35s 692us/step - loss: 0.5021 - acc: 0.8217 - val_loss: 2.1029 - val_acc: 0.5112\n",
      "Epoch 65/100\n",
      "50000/50000 [==============================] - 33s 654us/step - loss: 0.4899 - acc: 0.8246 - val_loss: 2.1633 - val_acc: 0.5043\n",
      "Epoch 66/100\n",
      "50000/50000 [==============================] - 35s 697us/step - loss: 0.4914 - acc: 0.8244 - val_loss: 2.1629 - val_acc: 0.5045\n",
      "Epoch 67/100\n",
      "50000/50000 [==============================] - 49s 982us/step - loss: 0.4740 - acc: 0.8284 - val_loss: 2.1378 - val_acc: 0.5172\n",
      "Epoch 68/100\n",
      "50000/50000 [==============================] - 48s 961us/step - loss: 0.4458 - acc: 0.8407 - val_loss: 2.2047 - val_acc: 0.5124\n",
      "Epoch 69/100\n",
      "50000/50000 [==============================] - 54s 1ms/step - loss: 0.4530 - acc: 0.8373 - val_loss: 2.2730 - val_acc: 0.5093\n",
      "Epoch 70/100\n",
      "50000/50000 [==============================] - 48s 968us/step - loss: 0.4340 - acc: 0.8467 - val_loss: 2.3222 - val_acc: 0.5128\n",
      "Epoch 71/100\n",
      "50000/50000 [==============================] - 47s 938us/step - loss: 0.4498 - acc: 0.8385 - val_loss: 2.2985 - val_acc: 0.5035\n",
      "Epoch 72/100\n",
      "50000/50000 [==============================] - 47s 937us/step - loss: 0.4307 - acc: 0.8466 - val_loss: 2.2868 - val_acc: 0.5156\n",
      "Epoch 73/100\n",
      "50000/50000 [==============================] - 47s 942us/step - loss: 0.4151 - acc: 0.8522 - val_loss: 2.3916 - val_acc: 0.5083\n",
      "Epoch 74/100\n",
      "50000/50000 [==============================] - 48s 950us/step - loss: 0.4075 - acc: 0.8531 - val_loss: 2.4681 - val_acc: 0.4975\n",
      "Epoch 75/100\n",
      "50000/50000 [==============================] - 34s 687us/step - loss: 0.4288 - acc: 0.8466 - val_loss: 2.3887 - val_acc: 0.5084\n",
      "Epoch 76/100\n",
      "50000/50000 [==============================] - 31s 627us/step - loss: 0.4041 - acc: 0.8543 - val_loss: 2.4131 - val_acc: 0.5118\n",
      "Epoch 77/100\n",
      "50000/50000 [==============================] - 33s 651us/step - loss: 0.3980 - acc: 0.8581 - val_loss: 2.4378 - val_acc: 0.5080\n",
      "Epoch 78/100\n",
      "50000/50000 [==============================] - 32s 637us/step - loss: 0.3996 - acc: 0.8567 - val_loss: 2.5396 - val_acc: 0.5059\n",
      "Epoch 79/100\n",
      "50000/50000 [==============================] - 33s 667us/step - loss: 0.3924 - acc: 0.8611 - val_loss: 2.5663 - val_acc: 0.4977\n",
      "Epoch 80/100\n",
      "50000/50000 [==============================] - 32s 630us/step - loss: 0.3642 - acc: 0.8700 - val_loss: 2.5683 - val_acc: 0.5086\n",
      "Epoch 81/100\n",
      "50000/50000 [==============================] - 32s 635us/step - loss: 0.3621 - acc: 0.8711 - val_loss: 2.6368 - val_acc: 0.4946\n",
      "Epoch 82/100\n",
      "50000/50000 [==============================] - 33s 658us/step - loss: 0.3811 - acc: 0.8631 - val_loss: 2.6514 - val_acc: 0.4995\n",
      "Epoch 83/100\n",
      "50000/50000 [==============================] - 33s 653us/step - loss: 0.3599 - acc: 0.8732 - val_loss: 2.6074 - val_acc: 0.4971\n",
      "Epoch 84/100\n",
      "50000/50000 [==============================] - 33s 663us/step - loss: 0.3597 - acc: 0.8713 - val_loss: 2.6524 - val_acc: 0.5052\n",
      "Epoch 85/100\n",
      "50000/50000 [==============================] - 34s 676us/step - loss: 0.3544 - acc: 0.8726 - val_loss: 2.7833 - val_acc: 0.4931\n",
      "Epoch 86/100\n",
      "50000/50000 [==============================] - 33s 669us/step - loss: 0.3654 - acc: 0.8678 - val_loss: 2.6826 - val_acc: 0.4956\n",
      "Epoch 87/100\n",
      "50000/50000 [==============================] - 33s 669us/step - loss: 0.3377 - acc: 0.8792 - val_loss: 2.8682 - val_acc: 0.5029\n",
      "Epoch 88/100\n",
      "50000/50000 [==============================] - 33s 669us/step - loss: 0.3418 - acc: 0.8773 - val_loss: 2.8334 - val_acc: 0.4918\n",
      "Epoch 89/100\n",
      "50000/50000 [==============================] - 31s 625us/step - loss: 0.3246 - acc: 0.8824 - val_loss: 2.8128 - val_acc: 0.5074\n",
      "Epoch 90/100\n",
      "50000/50000 [==============================] - 32s 633us/step - loss: 0.3336 - acc: 0.8792 - val_loss: 2.8244 - val_acc: 0.5006\n",
      "Epoch 91/100\n",
      "50000/50000 [==============================] - 33s 663us/step - loss: 0.3315 - acc: 0.8818 - val_loss: 2.8732 - val_acc: 0.4975\n",
      "Epoch 92/100\n",
      "50000/50000 [==============================] - 35s 696us/step - loss: 0.3175 - acc: 0.8847 - val_loss: 2.8778 - val_acc: 0.5013\n",
      "Epoch 93/100\n",
      "50000/50000 [==============================] - 50s 998us/step - loss: 0.3117 - acc: 0.8879 - val_loss: 2.9068 - val_acc: 0.5035\n",
      "Epoch 94/100\n",
      "50000/50000 [==============================] - 49s 988us/step - loss: 0.3048 - acc: 0.8905 - val_loss: 2.9560 - val_acc: 0.5029\n",
      "Epoch 95/100\n",
      "50000/50000 [==============================] - 51s 1ms/step - loss: 0.3047 - acc: 0.8905 - val_loss: 2.8494 - val_acc: 0.5013\n",
      "Epoch 96/100\n",
      "50000/50000 [==============================] - 51s 1ms/step - loss: 0.2939 - acc: 0.8948 - val_loss: 3.0304 - val_acc: 0.4975\n",
      "Epoch 97/100\n",
      "50000/50000 [==============================] - 49s 973us/step - loss: 0.3116 - acc: 0.8877 - val_loss: 2.9804 - val_acc: 0.5000\n",
      "Epoch 98/100\n",
      "50000/50000 [==============================] - 49s 984us/step - loss: 0.2883 - acc: 0.8959 - val_loss: 2.9689 - val_acc: 0.5014\n",
      "Epoch 99/100\n",
      "50000/50000 [==============================] - 50s 996us/step - loss: 0.2801 - acc: 0.9000 - val_loss: 3.0429 - val_acc: 0.5028\n",
      "Epoch 100/100\n",
      "50000/50000 [==============================] - 53s 1ms/step - loss: 0.2756 - acc: 0.9016 - val_loss: 3.0589 - val_acc: 0.4966\n"
     ]
    },
    {
     "data": {
      "text/plain": [
       "<keras.callbacks.History at 0x152a9978>"
      ]
     },
     "execution_count": 11,
     "metadata": {},
     "output_type": "execute_result"
    }
   ],
   "source": [
    "model.fit(x_train, y_train, \n",
    "          epochs=EPOCHS, \n",
    "          batch_size=BATCH_SIZE, \n",
    "          validation_data=(x_test, y_test), \n",
    "          shuffle=True)"
   ]
  },
  {
   "cell_type": "code",
   "execution_count": 12,
   "metadata": {},
   "outputs": [
    {
     "data": {
      "image/png": "[encoded data removed]",
      "text/plain": [
       "<Figure size 432x288 with 1 Axes>"
      ]
     },
     "metadata": {},
     "output_type": "display_data"
    },
    {
     "data": {
      "image/png": "[encoded data removed]",
      "text/plain": [
       "<Figure size 432x288 with 1 Axes>"
      ]
     },
     "metadata": {},
     "output_type": "display_data"
    }
   ],
   "source": [
    "# 訓練模型並檢視驗證集的結果\n",
    "import matplotlib.pyplot as plt\n",
    "\n",
    "train_loss = model.history.history[\"loss\"]\n",
    "valid_loss = model.history.history[\"val_loss\"]\n",
    "\n",
    "train_acc = model.history.history[\"acc\"]\n",
    "valid_acc = model.history.history[\"val_acc\"]\n",
    "\n",
    "plt.plot(range(len(train_loss)), train_loss, label=\"train loss\")\n",
    "plt.plot(range(len(valid_loss)), valid_loss, label=\"valid loss\")\n",
    "plt.legend()\n",
    "plt.title(\"Loss\")\n",
    "plt.show()\n",
    "\n",
    "plt.plot(range(len(train_acc)), train_acc, label=\"train accuracy\")\n",
    "plt.plot(range(len(valid_acc)), valid_acc, label=\"valid accuracy\")\n",
    "plt.legend()\n",
    "plt.title(\"Accuracy\")\n",
    "plt.show()"
   ]
  },
  {
   "cell_type": "markdown",
   "metadata": {},
   "source": [
    "## Work\n",
    "1. 請嘗試將 preproc_x 替換成以每筆資料的 min/max 進行標準化至 -1 ~ 1 間，再進行訓練\n",
    "2. 請嘗試將 mlp 疊更深 (e.g 5~10 層)，進行訓練後觀察 learning curve 的走勢\n",
    "3. (optional) 請改用 GPU 進行訓練 (如果你有 GPU 的話)，比較使用 CPU 與 GPU 的訓練速度"
   ]
  }
 ],
 "metadata": {
  "kernelspec": {
   "display_name": "Python 3",
   "language": "python",
   "name": "python3"
  },
  "language_info": {
   "codemirror_mode": {
    "name": "ipython",
    "version": 3
   },
   "file_extension": ".py",
   "mimetype": "text/x-python",
   "name": "python",
   "nbconvert_exporter": "python",
   "pygments_lexer": "ipython3",
   "version": "3.6.3"
  }
 },
 "nbformat": 4,
 "nbformat_minor": 2
}
