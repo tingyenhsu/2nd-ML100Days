{
 "cells": [
  {
   "cell_type": "markdown",
   "metadata": {},
   "source": [
    "## Work\n",
    "1. 試比較 save_best_only 與否的差異\n",
    "2. 請僅存入將 save_weights_only 設定為 True, 並嘗試 reset ipynb 並將模型與權重重新建回並預測 x_test\n",
    "\n",
    "詳細可參考：\n",
    "https://blog.gtwang.org/programming/keras-save-and-load-model-tutorial/"
   ]
  },
  {
   "cell_type": "code",
   "execution_count": 21,
   "metadata": {},
   "outputs": [],
   "source": [
    "import os\n",
    "import keras\n",
    "\n",
    "# Disable GPU\n",
    "os.environ[\"CUDA_VISIBLE_DEVICES\"] = \"\""
   ]
  },
  {
   "cell_type": "code",
   "execution_count": 22,
   "metadata": {
    "collapsed": true
   },
   "outputs": [],
   "source": [
    "train, test = keras.datasets.cifar10.load_data()"
   ]
  },
  {
   "cell_type": "code",
   "execution_count": 23,
   "metadata": {
    "collapsed": true
   },
   "outputs": [],
   "source": [
    "## 資料前處理\n",
    "def preproc_x(x, flatten=True):\n",
    "    x = x / 255.\n",
    "    if flatten:\n",
    "        x = x.reshape((len(x), -1))\n",
    "    return x\n",
    "\n",
    "def preproc_y(y, num_classes=10):\n",
    "    if y.shape[-1] == 1:\n",
    "        y = keras.utils.to_categorical(y, num_classes)\n",
    "    return y    "
   ]
  },
  {
   "cell_type": "code",
   "execution_count": 24,
   "metadata": {
    "collapsed": true
   },
   "outputs": [],
   "source": [
    "x_train, y_train = train\n",
    "x_test, y_test = test\n",
    "\n",
    "# Preproc the inputs\n",
    "x_train = preproc_x(x_train)\n",
    "x_test = preproc_x(x_test)\n",
    "\n",
    "# Preprc the outputs\n",
    "y_train = preproc_y(y_train)\n",
    "y_test = preproc_y(y_test)"
   ]
  },
  {
   "cell_type": "code",
   "execution_count": 25,
   "metadata": {
    "collapsed": true
   },
   "outputs": [],
   "source": [
    "from keras.layers import BatchNormalization\n",
    "\n",
    "\"\"\"\n",
    "建立神經網路，並加入 BN layer\n",
    "\"\"\"\n",
    "def build_mlp(input_shape, output_units=10, num_neurons=[512, 256, 128]):\n",
    "    input_layer = keras.layers.Input(input_shape)\n",
    "    \n",
    "    for i, n_units in enumerate(num_neurons):\n",
    "        if i == 0:\n",
    "            x = keras.layers.Dense(units=n_units, \n",
    "                                   activation=\"relu\", \n",
    "                                   name=\"hidden_layer\"+str(i+1))(input_layer)\n",
    "            x = BatchNormalization()(x)\n",
    "        else:\n",
    "            x = keras.layers.Dense(units=n_units, \n",
    "                                   activation=\"relu\", \n",
    "                                   name=\"hidden_layer\"+str(i+1))(x)\n",
    "            x = BatchNormalization()(x)\n",
    "    \n",
    "    out = keras.layers.Dense(units=output_units, activation=\"softmax\", name=\"output\")(x)\n",
    "    \n",
    "    model = keras.models.Model(inputs=[input_layer], outputs=[out])\n",
    "    return model"
   ]
  },
  {
   "cell_type": "code",
   "execution_count": 26,
   "metadata": {
    "collapsed": true
   },
   "outputs": [],
   "source": [
    "## 超參數設定\n",
    "LEARNING_RATE = 1e-3\n",
    "EPOCHS = 30\n",
    "BATCH_SIZE = 1024\n",
    "MOMENTUM = 0.95\n",
    "# save_bests=[0,1]"
   ]
  },
  {
   "cell_type": "code",
   "execution_count": 30,
   "metadata": {
    "scrolled": true
   },
   "outputs": [
    {
     "name": "stdout",
     "output_type": "stream",
     "text": [
      "_________________________________________________________________\n",
      "Layer (type)                 Output Shape              Param #   \n",
      "=================================================================\n",
      "input_4 (InputLayer)         (None, 3072)              0         \n",
      "_________________________________________________________________\n",
      "hidden_layer1 (Dense)        (None, 512)               1573376   \n",
      "_________________________________________________________________\n",
      "batch_normalization_10 (Batc (None, 512)               2048      \n",
      "_________________________________________________________________\n",
      "hidden_layer2 (Dense)        (None, 256)               131328    \n",
      "_________________________________________________________________\n",
      "batch_normalization_11 (Batc (None, 256)               1024      \n",
      "_________________________________________________________________\n",
      "hidden_layer3 (Dense)        (None, 128)               32896     \n",
      "_________________________________________________________________\n",
      "batch_normalization_12 (Batc (None, 128)               512       \n",
      "_________________________________________________________________\n",
      "output (Dense)               (None, 10)                1290      \n",
      "=================================================================\n",
      "Total params: 1,742,474\n",
      "Trainable params: 1,740,682\n",
      "Non-trainable params: 1,792\n",
      "_________________________________________________________________\n",
      "Train on 50000 samples, validate on 10000 samples\n",
      "Epoch 1/30\n",
      "50000/50000 [==============================] - 15s 293us/step - loss: 2.1956 - acc: 0.2705 - val_loss: 2.0696 - val_acc: 0.3238\n",
      "Epoch 2/30\n",
      "50000/50000 [==============================] - 15s 290us/step - loss: 1.7356 - acc: 0.3930 - val_loss: 1.8114 - val_acc: 0.3732\n",
      "Epoch 3/30\n",
      "50000/50000 [==============================] - 15s 310us/step - loss: 1.6101 - acc: 0.4366 - val_loss: 1.7099 - val_acc: 0.3979\n",
      "Epoch 4/30\n",
      "50000/50000 [==============================] - 16s 319us/step - loss: 1.5409 - acc: 0.4607 - val_loss: 1.6233 - val_acc: 0.4254\n",
      "Epoch 5/30\n",
      "50000/50000 [==============================] - 15s 291us/step - loss: 1.4858 - acc: 0.4793 - val_loss: 1.6053 - val_acc: 0.4293\n",
      "Epoch 6/30\n",
      "50000/50000 [==============================] - 16s 329us/step - loss: 1.4413 - acc: 0.4953 - val_loss: 1.5696 - val_acc: 0.4455\n",
      "Epoch 7/30\n",
      "50000/50000 [==============================] - 15s 293us/step - loss: 1.4036 - acc: 0.5096 - val_loss: 1.5739 - val_acc: 0.4422\n",
      "Epoch 8/30\n",
      "50000/50000 [==============================] - 14s 275us/step - loss: 1.3687 - acc: 0.5229 - val_loss: 1.5299 - val_acc: 0.4589\n",
      "Epoch 9/30\n",
      "50000/50000 [==============================] - 14s 273us/step - loss: 1.3366 - acc: 0.5342 - val_loss: 1.5222 - val_acc: 0.4577\n",
      "Epoch 10/30\n",
      "50000/50000 [==============================] - 14s 278us/step - loss: 1.3057 - acc: 0.5459 - val_loss: 1.5087 - val_acc: 0.4614\n",
      "Epoch 11/30\n",
      "50000/50000 [==============================] - 14s 274us/step - loss: 1.2787 - acc: 0.5551 - val_loss: 1.5207 - val_acc: 0.4641\n",
      "Epoch 12/30\n",
      "50000/50000 [==============================] - 14s 281us/step - loss: 1.2532 - acc: 0.5650 - val_loss: 1.4939 - val_acc: 0.4667\n",
      "Epoch 13/30\n",
      "50000/50000 [==============================] - 15s 303us/step - loss: 1.2267 - acc: 0.5747 - val_loss: 1.4862 - val_acc: 0.4729\n",
      "Epoch 14/30\n",
      "50000/50000 [==============================] - 15s 295us/step - loss: 1.2029 - acc: 0.5838 - val_loss: 1.4822 - val_acc: 0.4723\n",
      "Epoch 15/30\n",
      "50000/50000 [==============================] - 14s 275us/step - loss: 1.1791 - acc: 0.5920 - val_loss: 1.4739 - val_acc: 0.4769\n",
      "Epoch 16/30\n",
      "50000/50000 [==============================] - 14s 274us/step - loss: 1.1568 - acc: 0.6014 - val_loss: 1.4677 - val_acc: 0.4793\n",
      "Epoch 17/30\n",
      "50000/50000 [==============================] - 14s 276us/step - loss: 1.1317 - acc: 0.6106 - val_loss: 1.4697 - val_acc: 0.4762\n",
      "Epoch 18/30\n",
      "50000/50000 [==============================] - 14s 290us/step - loss: 1.1111 - acc: 0.6188 - val_loss: 1.4614 - val_acc: 0.4771\n",
      "Epoch 19/30\n",
      "50000/50000 [==============================] - 14s 285us/step - loss: 1.0888 - acc: 0.6237 - val_loss: 1.4625 - val_acc: 0.4822\n",
      "Epoch 20/30\n",
      "50000/50000 [==============================] - 14s 275us/step - loss: 1.0670 - acc: 0.6329 - val_loss: 1.4683 - val_acc: 0.4849\n",
      "Epoch 21/30\n",
      "50000/50000 [==============================] - 14s 278us/step - loss: 1.0476 - acc: 0.6423 - val_loss: 1.4743 - val_acc: 0.4854\n",
      "Epoch 22/30\n",
      "50000/50000 [==============================] - 15s 290us/step - loss: 1.0273 - acc: 0.6483 - val_loss: 1.4546 - val_acc: 0.4914\n",
      "Epoch 23/30\n",
      "50000/50000 [==============================] - 15s 309us/step - loss: 1.0044 - acc: 0.6584 - val_loss: 1.4738 - val_acc: 0.4834\n",
      "Epoch 24/30\n",
      "50000/50000 [==============================] - 15s 292us/step - loss: 0.9837 - acc: 0.6675 - val_loss: 1.4757 - val_acc: 0.4860\n",
      "Epoch 25/30\n",
      "50000/50000 [==============================] - 14s 277us/step - loss: 0.9631 - acc: 0.6742 - val_loss: 1.4829 - val_acc: 0.4868\n",
      "Epoch 26/30\n",
      "50000/50000 [==============================] - 14s 274us/step - loss: 0.9427 - acc: 0.6821 - val_loss: 1.4668 - val_acc: 0.4923\n",
      "Epoch 27/30\n",
      "50000/50000 [==============================] - 14s 286us/step - loss: 0.9231 - acc: 0.6901 - val_loss: 1.4797 - val_acc: 0.4871\n",
      "Epoch 28/30\n",
      "50000/50000 [==============================] - 14s 273us/step - loss: 0.9047 - acc: 0.6986 - val_loss: 1.4884 - val_acc: 0.4901\n",
      "Epoch 29/30\n",
      "50000/50000 [==============================] - 14s 272us/step - loss: 0.8851 - acc: 0.7061 - val_loss: 1.4897 - val_acc: 0.4874\n",
      "Epoch 30/30\n",
      "50000/50000 [==============================] - 15s 305us/step - loss: 0.8655 - acc: 0.7122 - val_loss: 1.4916 - val_acc: 0.4874\n"
     ]
    }
   ],
   "source": [
    "# 載入 Callbacks\n",
    "from keras.callbacks import ModelCheckpoint\n",
    "\n",
    "\n",
    "results = {}\n",
    "results_save = {}\n",
    "\"\"\"Code Here\n",
    "撰寫你的訓練流程並將結果用 dictionary 紀錄\n",
    "\"\"\"\n",
    "# for save_best in save_bests:\n",
    "id_ = 'save_best'\n",
    "model_ckpt = ModelCheckpoint(filepath=\"./tmp.h5\", \n",
    "                         monitor=\"val_loss\", \n",
    "                         save_best_only=True,\n",
    "                         save_weights_only=True)\n",
    "\n",
    "\n",
    "model = build_mlp(input_shape=x_train.shape[1:])\n",
    "model.summary()\n",
    "optimizer = keras.optimizers.SGD(lr=LEARNING_RATE, nesterov=True, momentum=MOMENTUM)\n",
    "model.compile(loss=\"categorical_crossentropy\", metrics=[\"accuracy\"], optimizer=optimizer)\n",
    "\n",
    "# model.save_weights('Day86_weight.h5')\n",
    "model.load_weights('Day86_weight.h5')\n",
    "\n",
    "model.fit(x_train, y_train, \n",
    "          epochs=EPOCHS, \n",
    "          batch_size=BATCH_SIZE, \n",
    "          validation_data=(x_test, y_test), \n",
    "          shuffle=True,\n",
    "          callbacks=[model_ckpt]\n",
    "         )\n",
    "\n",
    "\n",
    "# Collect results\n",
    "results[id_] = {\n",
    "        'train_loss' : model.history.history[\"loss\"]\n",
    "        ,'valid_loss' : model.history.history[\"val_loss\"]\n",
    "        ,'train_acc' : model.history.history[\"acc\"]\n",
    "        ,'valid_acc' : model.history.history[\"val_acc\"]\n",
    "    }\n",
    "# model = keras.models.load_model(\"./tmp.h5\")\n",
    "# loss_loadback, acc_loadback = model.evaluate(x_test, y_test)\n",
    "# results_save[id_] = {'valid_loss': loss_loadback\n",
    "#                      ,'valid_acc': acc_loadback\n",
    "# }\n"
   ]
  },
  {
   "cell_type": "code",
   "execution_count": 20,
   "metadata": {},
   "outputs": [
    {
     "ename": "AttributeError",
     "evalue": "module 'keras.models' has no attribute 'load_weights'",
     "output_type": "error",
     "traceback": [
      "\u001b[1;31m---------------------------------------------------------------------------\u001b[0m",
      "\u001b[1;31mAttributeError\u001b[0m                            Traceback (most recent call last)",
      "\u001b[1;32m<ipython-input-20-dabd5046380f>\u001b[0m in \u001b[0;36m<module>\u001b[1;34m()\u001b[0m\n\u001b[0;32m      1\u001b[0m \u001b[1;31m# model = keras.models.load_model(\"./tmp.h5\")\u001b[0m\u001b[1;33m\u001b[0m\u001b[1;33m\u001b[0m\u001b[0m\n\u001b[1;32m----> 2\u001b[1;33m \u001b[0mmodel\u001b[0m \u001b[1;33m=\u001b[0m \u001b[0mkeras\u001b[0m\u001b[1;33m.\u001b[0m\u001b[0mmodels\u001b[0m\u001b[1;33m.\u001b[0m\u001b[0mload_weights\u001b[0m\u001b[1;33m(\u001b[0m\u001b[1;34m\"Day86_weight.h5\"\u001b[0m\u001b[1;33m)\u001b[0m\u001b[1;33m\u001b[0m\u001b[0m\n\u001b[0m\u001b[0;32m      3\u001b[0m \u001b[1;31m# loss_loadback, acc_loadback = model.evaluate(x_test, y_test)\u001b[0m\u001b[1;33m\u001b[0m\u001b[1;33m\u001b[0m\u001b[0m\n\u001b[0;32m      4\u001b[0m \u001b[1;31m# results_save[id_] = {'valid_loss': loss_loadback\u001b[0m\u001b[1;33m\u001b[0m\u001b[1;33m\u001b[0m\u001b[0m\n\u001b[0;32m      5\u001b[0m \u001b[1;31m#                      ,'valid_acc': acc_loadback\u001b[0m\u001b[1;33m\u001b[0m\u001b[1;33m\u001b[0m\u001b[0m\n",
      "\u001b[1;31mAttributeError\u001b[0m: module 'keras.models' has no attribute 'load_weights'"
     ]
    }
   ],
   "source": [
    "# model = keras.models.load_model(\"./tmp.h5\")\n",
    "model = keras.models.load_weights(\"Day86_weight.h5\")\n",
    "# loss_loadback, acc_loadback = model.evaluate(x_test, y_test)\n",
    "# results_save[id_] = {'valid_loss': loss_loadback\n",
    "#                      ,'valid_acc': acc_loadback\n",
    "# }"
   ]
  },
  {
   "cell_type": "code",
   "execution_count": 31,
   "metadata": {
    "scrolled": true
   },
   "outputs": [
    {
     "name": "stdout",
     "output_type": "stream",
     "text": [
      "0 save_best\n"
     ]
    },
    {
     "data": {
      "image/png": "[encoded data removed]",
      "text/plain": [
       "<Figure size 576x432 with 1 Axes>"
      ]
     },
     "metadata": {},
     "output_type": "display_data"
    },
    {
     "data": {
      "image/png": "[encoded data removed]",
      "text/plain": [
       "<Figure size 576x432 with 1 Axes>"
      ]
     },
     "metadata": {},
     "output_type": "display_data"
    }
   ],
   "source": [
    "import matplotlib.pyplot as plt\n",
    "%matplotlib inline\n",
    "color_bar = [\"r\", \"g\", \"b\", \"y\", \"m\", \"k\"]\n",
    "\n",
    "plt.figure(figsize=(8,6))\n",
    "for i, cond in enumerate(results.keys()):\n",
    "    print(i, cond)\n",
    "    plt.plot(range(len(results[cond]['train_loss'])),results[cond]['train_loss'], '-', label=str(cond)+'_train', color=color_bar[i])\n",
    "    plt.plot(range(len(results[cond]['valid_loss'])),results[cond]['valid_loss'], '--', label=str(cond)+'_valid', color=color_bar[i])\n",
    "plt.title(\"Loss\")\n",
    "plt.ylim([0, 5])\n",
    "plt.legend()\n",
    "plt.show()\n",
    "\n",
    "plt.figure(figsize=(8,6))\n",
    "for i, cond in enumerate(results.keys()):\n",
    "    plt.plot(range(len(results[cond]['train_acc'])),results[cond]['train_acc'], '-', label=str(cond)+'_train', color=color_bar[i])\n",
    "    plt.plot(range(len(results[cond]['valid_acc'])),results[cond]['valid_acc'], '--', label=str(cond)+'_valid', color=color_bar[i])\n",
    "plt.title(\"Accuracy\")\n",
    "plt.legend()\n",
    "plt.show()"
   ]
  },
  {
   "cell_type": "code",
   "execution_count": null,
   "metadata": {
    "collapsed": true
   },
   "outputs": [],
   "source": []
  }
 ],
 "metadata": {
  "kernelspec": {
   "display_name": "Python 3",
   "language": "python",
   "name": "python3"
  },
  "language_info": {
   "codemirror_mode": {
    "name": "ipython",
    "version": 3
   },
   "file_extension": ".py",
   "mimetype": "text/x-python",
   "name": "python",
   "nbconvert_exporter": "python",
   "pygments_lexer": "ipython3",
   "version": "3.6.3"
  }
 },
 "nbformat": 4,
 "nbformat_minor": 2
}
