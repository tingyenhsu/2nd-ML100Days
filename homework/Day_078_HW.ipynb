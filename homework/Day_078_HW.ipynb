{
 "cells": [
  {
   "cell_type": "markdown",
   "metadata": {},
   "source": [
    "## Work\n",
    "1. 請嘗試將 preproc_x 替換成以每筆資料的 min/max 進行標準化至 -1 ~ 1 間，再進行訓練\n",
    "2. 請嘗試將 mlp 疊更深 (e.g 5~10 層)，進行訓練後觀察 learning curve 的走勢\n",
    "3. (optional) 請改用 GPU 進行訓練 (如果你有 GPU 的話)，比較使用 CPU 與 GPU 的訓練速度"
   ]
  },
  {
   "cell_type": "code",
   "execution_count": 1,
   "metadata": {
    "collapsed": true
   },
   "outputs": [],
   "source": [
    "## \n",
    "\"\"\"\n",
    "Your code here (optional)\n",
    "確認硬體資源\n",
    "\"\"\"\n"
   ]
  },
  {
   "cell_type": "code",
   "execution_count": 1,
   "metadata": {},
   "outputs": [
    {
     "name": "stderr",
     "output_type": "stream",
     "text": [
      "C:\\ProgramData\\Anaconda3\\lib\\site-packages\\h5py\\__init__.py:34: FutureWarning: Conversion of the second argument of issubdtype from `float` to `np.floating` is deprecated. In future, it will be treated as `np.float64 == np.dtype(float).type`.\n",
      "  from ._conv import register_converters as _register_converters\n",
      "Using TensorFlow backend.\n"
     ]
    }
   ],
   "source": [
    "import os\n",
    "import keras\n",
    "\n",
    "# 請嘗試設定 GPU：os.environ\n",
    "os.environ[\"CUDA_VISIBLE_DEVICES\"] = ''"
   ]
  },
  {
   "cell_type": "code",
   "execution_count": 2,
   "metadata": {
    "collapsed": true
   },
   "outputs": [],
   "source": [
    "train, test = keras.datasets.cifar10.load_data()"
   ]
  },
  {
   "cell_type": "code",
   "execution_count": 15,
   "metadata": {
    "collapsed": true
   },
   "outputs": [],
   "source": [
    "## 資料前處理\n",
    "# 請嘗試將 preproc_x 替換成以每筆資料的 min/max 進行標準化至 -1 ~ 1 間，再進行訓練\n",
    "#  (v - v.min()) / (v.max() - v.min())\n",
    "\"\"\"\n",
    "Your code here\n",
    "\"\"\"\n",
    "def preproc_x(x, flattern=True):\n",
    "    x = (x-x.min())/(x.max()-x.min())\n",
    "    if flattern:\n",
    "        x = x.reshape((len(x), -1))\n",
    "    return x\n",
    "    \n",
    "\n",
    "def preproc_y(y, num_classes=10):\n",
    "    if y.shape[-1] == 1:\n",
    "        y = keras.utils.to_categorical(y, num_classes)\n",
    "    return y    "
   ]
  },
  {
   "cell_type": "code",
   "execution_count": 16,
   "metadata": {
    "collapsed": true
   },
   "outputs": [],
   "source": [
    "x_train, y_train = train\n",
    "x_test, y_test = test\n",
    "\n",
    "# Preproc the inputs\n",
    "x_train = preproc_x(x_train)\n",
    "x_test = preproc_x(x_test)\n",
    "\n",
    "# Preprc the outputs\n",
    "y_train = preproc_y(y_train)\n",
    "y_test = preproc_y(y_test)"
   ]
  },
  {
   "cell_type": "code",
   "execution_count": null,
   "metadata": {
    "collapsed": true
   },
   "outputs": [],
   "source": []
  },
  {
   "cell_type": "code",
   "execution_count": 17,
   "metadata": {},
   "outputs": [
    {
     "name": "stdout",
     "output_type": "stream",
     "text": [
      "_________________________________________________________________\n",
      "Layer (type)                 Output Shape              Param #   \n",
      "=================================================================\n",
      "input_2 (InputLayer)         (None, 3072)              0         \n",
      "_________________________________________________________________\n",
      "hidden_layer1 (Dense)        (None, 256)               786688    \n",
      "_________________________________________________________________\n",
      "hidden_layer2 (Dense)        (None, 256)               65792     \n",
      "_________________________________________________________________\n",
      "hidden_layer3 (Dense)        (None, 128)               32896     \n",
      "_________________________________________________________________\n",
      "hidden_layer4 (Dense)        (None, 128)               16512     \n",
      "_________________________________________________________________\n",
      "hidden_layer5 (Dense)        (None, 128)               16512     \n",
      "_________________________________________________________________\n",
      "hidden_layer6 (Dense)        (None, 256)               33024     \n",
      "_________________________________________________________________\n",
      "hidden_layer7 (Dense)        (None, 64)                16448     \n",
      "_________________________________________________________________\n",
      "output (Dense)               (None, 10)                650       \n",
      "=================================================================\n",
      "Total params: 968,522\n",
      "Trainable params: 968,522\n",
      "Non-trainable params: 0\n",
      "_________________________________________________________________\n"
     ]
    }
   ],
   "source": [
    "\"\"\"Code Here\n",
    "建立你的神經網路\n",
    "\"\"\"\n",
    "def build_mlp(input_shape, output_units=10, num_neurons=[256, 256, 128, 128, 128, 256, 64]):\n",
    "    input_layer = keras.layers.Input(input_shape)\n",
    "    \n",
    "    for i, n_units in enumerate(num_neurons):\n",
    "        if i == 0:\n",
    "            x = keras.layers.Dense(units=n_units, activation=\"relu\", name=\"hidden_layer\"+str(i+1))(input_layer)\n",
    "        else:\n",
    "            x = keras.layers.Dense(units=n_units, activation=\"relu\", name=\"hidden_layer\"+str(i+1))(x)\n",
    "    \n",
    "    out = keras.layers.Dense(units=output_units, activation=\"softmax\", name=\"output\")(x)\n",
    "    \n",
    "    model = keras.models.Model(inputs=[input_layer], outputs=[out])\n",
    "    \n",
    "    return model\n",
    "\n",
    "\n",
    "model = build_mlp(input_shape=x_train.shape[1:])\n",
    "model.summary()"
   ]
  },
  {
   "cell_type": "code",
   "execution_count": 18,
   "metadata": {
    "collapsed": true
   },
   "outputs": [],
   "source": [
    "## 超參數設定\n",
    "LEARNING_RATE = 0.001\n",
    "EPOCHS = 100\n",
    "BATCH_SIZE = 512"
   ]
  },
  {
   "cell_type": "code",
   "execution_count": 19,
   "metadata": {},
   "outputs": [],
   "source": [
    "optimizer = keras.optimizers.Adam(lr=LEARNING_RATE)\n",
    "model.compile(loss=\"categorical_crossentropy\", metrics=[\"accuracy\"], optimizer=optimizer)"
   ]
  },
  {
   "cell_type": "code",
   "execution_count": 20,
   "metadata": {},
   "outputs": [
    {
     "name": "stdout",
     "output_type": "stream",
     "text": [
      "Train on 50000 samples, validate on 10000 samples\n",
      "Epoch 1/100\n",
      "50000/50000 [==============================] - 30s 594us/step - loss: 2.0103 - acc: 0.2534 - val_loss: 1.8224 - val_acc: 0.3436\n",
      "Epoch 2/100\n",
      "50000/50000 [==============================] - 28s 550us/step - loss: 1.7830 - acc: 0.3535 - val_loss: 1.6984 - val_acc: 0.3927\n",
      "Epoch 3/100\n",
      "50000/50000 [==============================] - 28s 557us/step - loss: 1.6920 - acc: 0.3881 - val_loss: 1.6450 - val_acc: 0.4095\n",
      "Epoch 4/100\n",
      "50000/50000 [==============================] - 30s 596us/step - loss: 1.6320 - acc: 0.4128 - val_loss: 1.6082 - val_acc: 0.4249\n",
      "Epoch 5/100\n",
      "50000/50000 [==============================] - 28s 565us/step - loss: 1.5816 - acc: 0.4302 - val_loss: 1.5840 - val_acc: 0.4339\n",
      "Epoch 6/100\n",
      "50000/50000 [==============================] - 27s 547us/step - loss: 1.5292 - acc: 0.4531 - val_loss: 1.5182 - val_acc: 0.4521\n",
      "Epoch 7/100\n",
      "50000/50000 [==============================] - 25s 492us/step - loss: 1.4858 - acc: 0.4677 - val_loss: 1.5202 - val_acc: 0.4534\n",
      "Epoch 8/100\n",
      "50000/50000 [==============================] - 27s 549us/step - loss: 1.4488 - acc: 0.4817 - val_loss: 1.4616 - val_acc: 0.4794\n",
      "Epoch 9/100\n",
      "50000/50000 [==============================] - 26s 530us/step - loss: 1.4228 - acc: 0.4888 - val_loss: 1.4428 - val_acc: 0.4825\n",
      "Epoch 10/100\n",
      "50000/50000 [==============================] - 26s 530us/step - loss: 1.4003 - acc: 0.4983 - val_loss: 1.4494 - val_acc: 0.4904\n",
      "Epoch 11/100\n",
      "50000/50000 [==============================] - 26s 530us/step - loss: 1.3694 - acc: 0.5111 - val_loss: 1.4895 - val_acc: 0.4708\n",
      "Epoch 12/100\n",
      "50000/50000 [==============================] - 26s 523us/step - loss: 1.3597 - acc: 0.5138 - val_loss: 1.4428 - val_acc: 0.4854\n",
      "Epoch 13/100\n",
      "50000/50000 [==============================] - 27s 539us/step - loss: 1.3203 - acc: 0.5265 - val_loss: 1.4396 - val_acc: 0.4902\n",
      "Epoch 14/100\n",
      "50000/50000 [==============================] - 26s 526us/step - loss: 1.3165 - acc: 0.5306 - val_loss: 1.4143 - val_acc: 0.5035\n",
      "Epoch 15/100\n",
      "50000/50000 [==============================] - 26s 519us/step - loss: 1.2889 - acc: 0.5373 - val_loss: 1.4103 - val_acc: 0.4952\n",
      "Epoch 16/100\n",
      "50000/50000 [==============================] - 26s 529us/step - loss: 1.2668 - acc: 0.5457 - val_loss: 1.4041 - val_acc: 0.4996\n",
      "Epoch 17/100\n",
      "50000/50000 [==============================] - 26s 523us/step - loss: 1.2499 - acc: 0.5561 - val_loss: 1.4043 - val_acc: 0.5079\n",
      "Epoch 18/100\n",
      "50000/50000 [==============================] - 27s 536us/step - loss: 1.2224 - acc: 0.5627 - val_loss: 1.3833 - val_acc: 0.5148\n",
      "Epoch 19/100\n",
      "50000/50000 [==============================] - 26s 524us/step - loss: 1.2093 - acc: 0.5676 - val_loss: 1.3936 - val_acc: 0.5106\n",
      "Epoch 20/100\n",
      "50000/50000 [==============================] - 26s 529us/step - loss: 1.1815 - acc: 0.5743 - val_loss: 1.3567 - val_acc: 0.5201\n",
      "Epoch 21/100\n",
      "50000/50000 [==============================] - 26s 522us/step - loss: 1.1575 - acc: 0.5870 - val_loss: 1.4055 - val_acc: 0.5064\n",
      "Epoch 22/100\n",
      "50000/50000 [==============================] - 26s 523us/step - loss: 1.1469 - acc: 0.5883 - val_loss: 1.4118 - val_acc: 0.5069\n",
      "Epoch 23/100\n",
      "50000/50000 [==============================] - 26s 515us/step - loss: 1.1364 - acc: 0.5903 - val_loss: 1.3828 - val_acc: 0.5221\n",
      "Epoch 24/100\n",
      "50000/50000 [==============================] - 26s 523us/step - loss: 1.1035 - acc: 0.6059 - val_loss: 1.4046 - val_acc: 0.5135\n",
      "Epoch 25/100\n",
      "50000/50000 [==============================] - 26s 522us/step - loss: 1.0847 - acc: 0.6100 - val_loss: 1.3877 - val_acc: 0.5125\n",
      "Epoch 26/100\n",
      "50000/50000 [==============================] - 26s 524us/step - loss: 1.0696 - acc: 0.6168 - val_loss: 1.3933 - val_acc: 0.5127\n",
      "Epoch 27/100\n",
      "50000/50000 [==============================] - 26s 523us/step - loss: 1.0565 - acc: 0.6198 - val_loss: 1.4049 - val_acc: 0.5133\n",
      "Epoch 28/100\n",
      "50000/50000 [==============================] - 26s 529us/step - loss: 1.0336 - acc: 0.6296 - val_loss: 1.4413 - val_acc: 0.5066\n",
      "Epoch 29/100\n",
      "50000/50000 [==============================] - 26s 525us/step - loss: 1.0204 - acc: 0.6333 - val_loss: 1.4633 - val_acc: 0.5104\n",
      "Epoch 30/100\n",
      "50000/50000 [==============================] - 27s 532us/step - loss: 0.9961 - acc: 0.6418 - val_loss: 1.5084 - val_acc: 0.5056\n",
      "Epoch 31/100\n",
      "50000/50000 [==============================] - 28s 554us/step - loss: 0.9835 - acc: 0.6442 - val_loss: 1.4617 - val_acc: 0.5108\n",
      "Epoch 32/100\n",
      "50000/50000 [==============================] - 26s 523us/step - loss: 0.9478 - acc: 0.6586 - val_loss: 1.4561 - val_acc: 0.5172\n",
      "Epoch 33/100\n",
      "50000/50000 [==============================] - 25s 505us/step - loss: 0.9448 - acc: 0.6616 - val_loss: 1.5138 - val_acc: 0.5070\n",
      "Epoch 34/100\n",
      "50000/50000 [==============================] - 27s 537us/step - loss: 0.9112 - acc: 0.6733 - val_loss: 1.4900 - val_acc: 0.5156\n",
      "Epoch 35/100\n",
      "50000/50000 [==============================] - 27s 542us/step - loss: 0.9030 - acc: 0.6749 - val_loss: 1.5222 - val_acc: 0.5059\n",
      "Epoch 36/100\n",
      "50000/50000 [==============================] - 26s 519us/step - loss: 0.9011 - acc: 0.6745 - val_loss: 1.5127 - val_acc: 0.5156\n",
      "Epoch 37/100\n",
      "50000/50000 [==============================] - 26s 525us/step - loss: 0.8653 - acc: 0.6904 - val_loss: 1.5337 - val_acc: 0.5080\n",
      "Epoch 38/100\n",
      "50000/50000 [==============================] - 27s 533us/step - loss: 0.8589 - acc: 0.6924 - val_loss: 1.5359 - val_acc: 0.5072\n",
      "Epoch 39/100\n",
      "50000/50000 [==============================] - 26s 511us/step - loss: 0.8344 - acc: 0.7014 - val_loss: 1.5667 - val_acc: 0.5066\n",
      "Epoch 40/100\n",
      "50000/50000 [==============================] - 26s 524us/step - loss: 0.8113 - acc: 0.7098 - val_loss: 1.5883 - val_acc: 0.5048\n",
      "Epoch 41/100\n",
      "50000/50000 [==============================] - 27s 535us/step - loss: 0.8172 - acc: 0.7080 - val_loss: 1.6494 - val_acc: 0.5064\n",
      "Epoch 42/100\n",
      "50000/50000 [==============================] - 26s 520us/step - loss: 0.7921 - acc: 0.7150 - val_loss: 1.6647 - val_acc: 0.5075\n",
      "Epoch 43/100\n",
      "50000/50000 [==============================] - 26s 520us/step - loss: 0.7789 - acc: 0.7195 - val_loss: 1.6200 - val_acc: 0.5123\n",
      "Epoch 44/100\n",
      "50000/50000 [==============================] - 25s 492us/step - loss: 0.7467 - acc: 0.7329 - val_loss: 1.6838 - val_acc: 0.5075\n",
      "Epoch 45/100\n",
      "50000/50000 [==============================] - 27s 538us/step - loss: 0.7272 - acc: 0.7398 - val_loss: 1.6843 - val_acc: 0.5089\n",
      "Epoch 46/100\n",
      "50000/50000 [==============================] - 27s 530us/step - loss: 0.7208 - acc: 0.7400 - val_loss: 1.7408 - val_acc: 0.5057\n",
      "Epoch 47/100\n",
      "50000/50000 [==============================] - 26s 521us/step - loss: 0.7075 - acc: 0.7448 - val_loss: 1.7798 - val_acc: 0.4974\n",
      "Epoch 48/100\n",
      "50000/50000 [==============================] - 27s 531us/step - loss: 0.6989 - acc: 0.7473 - val_loss: 1.7746 - val_acc: 0.5042\n",
      "Epoch 49/100\n",
      "50000/50000 [==============================] - 27s 538us/step - loss: 0.6741 - acc: 0.7566 - val_loss: 1.8356 - val_acc: 0.5030\n",
      "Epoch 50/100\n",
      "50000/50000 [==============================] - 26s 515us/step - loss: 0.6879 - acc: 0.7528 - val_loss: 1.8782 - val_acc: 0.5070\n",
      "Epoch 51/100\n",
      "50000/50000 [==============================] - 26s 527us/step - loss: 0.6625 - acc: 0.7634 - val_loss: 1.9135 - val_acc: 0.5032\n",
      "Epoch 52/100\n",
      "50000/50000 [==============================] - 26s 524us/step - loss: 0.6439 - acc: 0.7676 - val_loss: 1.9163 - val_acc: 0.4970\n",
      "Epoch 53/100\n",
      "50000/50000 [==============================] - 27s 535us/step - loss: 0.6343 - acc: 0.7725 - val_loss: 1.9494 - val_acc: 0.5057\n",
      "Epoch 54/100\n",
      "50000/50000 [==============================] - 26s 522us/step - loss: 0.5869 - acc: 0.7881 - val_loss: 1.9653 - val_acc: 0.4995\n",
      "Epoch 55/100\n",
      "50000/50000 [==============================] - 27s 530us/step - loss: 0.6109 - acc: 0.7791 - val_loss: 2.0190 - val_acc: 0.4927\n",
      "Epoch 56/100\n",
      "50000/50000 [==============================] - 25s 510us/step - loss: 0.5853 - acc: 0.7914 - val_loss: 1.9885 - val_acc: 0.5021\n",
      "Epoch 57/100\n",
      "50000/50000 [==============================] - 27s 531us/step - loss: 0.5899 - acc: 0.7869 - val_loss: 1.9989 - val_acc: 0.4972\n",
      "Epoch 58/100\n",
      "50000/50000 [==============================] - 26s 525us/step - loss: 0.5916 - acc: 0.7848 - val_loss: 2.1053 - val_acc: 0.4996\n"
     ]
    },
    {
     "name": "stdout",
     "output_type": "stream",
     "text": [
      "Epoch 59/100\n",
      "50000/50000 [==============================] - 26s 528us/step - loss: 0.5622 - acc: 0.7956 - val_loss: 2.0899 - val_acc: 0.4963\n",
      "Epoch 60/100\n",
      "50000/50000 [==============================] - 26s 523us/step - loss: 0.5639 - acc: 0.7973 - val_loss: 2.0486 - val_acc: 0.5020\n",
      "Epoch 61/100\n",
      "50000/50000 [==============================] - 26s 527us/step - loss: 0.5451 - acc: 0.8018 - val_loss: 2.1008 - val_acc: 0.5009\n",
      "Epoch 62/100\n",
      "50000/50000 [==============================] - 26s 522us/step - loss: 0.5236 - acc: 0.8110 - val_loss: 2.0861 - val_acc: 0.4972\n",
      "Epoch 63/100\n",
      "50000/50000 [==============================] - 26s 514us/step - loss: 0.4998 - acc: 0.8214 - val_loss: 2.1788 - val_acc: 0.5000\n",
      "Epoch 64/100\n",
      "50000/50000 [==============================] - 26s 528us/step - loss: 0.4933 - acc: 0.8216 - val_loss: 2.2497 - val_acc: 0.4965\n",
      "Epoch 65/100\n",
      "50000/50000 [==============================] - 26s 516us/step - loss: 0.5006 - acc: 0.8203 - val_loss: 2.2975 - val_acc: 0.4919\n",
      "Epoch 66/100\n",
      "50000/50000 [==============================] - 26s 523us/step - loss: 0.4948 - acc: 0.8221 - val_loss: 2.3078 - val_acc: 0.4862\n",
      "Epoch 67/100\n",
      "50000/50000 [==============================] - 26s 529us/step - loss: 0.5364 - acc: 0.8058 - val_loss: 2.2120 - val_acc: 0.5008\n",
      "Epoch 68/100\n",
      "50000/50000 [==============================] - 27s 539us/step - loss: 0.4567 - acc: 0.8362 - val_loss: 2.2821 - val_acc: 0.5004\n",
      "Epoch 69/100\n",
      "50000/50000 [==============================] - 27s 531us/step - loss: 0.4629 - acc: 0.8335 - val_loss: 2.3124 - val_acc: 0.4867\n",
      "Epoch 70/100\n",
      "50000/50000 [==============================] - 26s 525us/step - loss: 0.4725 - acc: 0.8285 - val_loss: 2.3336 - val_acc: 0.4883\n",
      "Epoch 71/100\n",
      "50000/50000 [==============================] - 26s 520us/step - loss: 0.4426 - acc: 0.8404 - val_loss: 2.3013 - val_acc: 0.4958\n",
      "Epoch 72/100\n",
      "50000/50000 [==============================] - 26s 521us/step - loss: 0.4211 - acc: 0.8479 - val_loss: 2.4011 - val_acc: 0.4994\n",
      "Epoch 73/100\n",
      "50000/50000 [==============================] - 27s 531us/step - loss: 0.4258 - acc: 0.8470 - val_loss: 2.5849 - val_acc: 0.4895\n",
      "Epoch 74/100\n",
      "50000/50000 [==============================] - 26s 520us/step - loss: 0.3953 - acc: 0.8586 - val_loss: 2.7170 - val_acc: 0.4807\n",
      "Epoch 75/100\n",
      "50000/50000 [==============================] - 26s 521us/step - loss: 0.4257 - acc: 0.8468 - val_loss: 2.4874 - val_acc: 0.4953\n",
      "Epoch 76/100\n",
      "50000/50000 [==============================] - 26s 518us/step - loss: 0.4213 - acc: 0.8482 - val_loss: 2.6258 - val_acc: 0.4984\n",
      "Epoch 77/100\n",
      "50000/50000 [==============================] - 26s 524us/step - loss: 0.3811 - acc: 0.8625 - val_loss: 2.5369 - val_acc: 0.4957\n",
      "Epoch 78/100\n",
      "50000/50000 [==============================] - 27s 531us/step - loss: 0.3933 - acc: 0.8575 - val_loss: 2.6425 - val_acc: 0.4927\n",
      "Epoch 79/100\n",
      "50000/50000 [==============================] - 27s 533us/step - loss: 0.3719 - acc: 0.8657 - val_loss: 2.7549 - val_acc: 0.4896\n",
      "Epoch 80/100\n",
      "50000/50000 [==============================] - 26s 528us/step - loss: 0.3855 - acc: 0.8612 - val_loss: 2.6572 - val_acc: 0.4978\n",
      "Epoch 81/100\n",
      "50000/50000 [==============================] - 26s 528us/step - loss: 0.3709 - acc: 0.8668 - val_loss: 2.7803 - val_acc: 0.4978\n",
      "Epoch 82/100\n",
      "50000/50000 [==============================] - 27s 538us/step - loss: 0.3605 - acc: 0.8706 - val_loss: 2.6767 - val_acc: 0.4835\n",
      "Epoch 83/100\n",
      "50000/50000 [==============================] - 25s 503us/step - loss: 0.3780 - acc: 0.8626 - val_loss: 2.8455 - val_acc: 0.4867\n",
      "Epoch 84/100\n",
      "50000/50000 [==============================] - 27s 532us/step - loss: 0.3996 - acc: 0.8547 - val_loss: 2.6566 - val_acc: 0.4878\n",
      "Epoch 85/100\n",
      "50000/50000 [==============================] - 26s 519us/step - loss: 0.3352 - acc: 0.8787 - val_loss: 2.7678 - val_acc: 0.4834\n",
      "Epoch 86/100\n",
      "50000/50000 [==============================] - 27s 534us/step - loss: 0.3419 - acc: 0.8768 - val_loss: 2.8677 - val_acc: 0.4863\n",
      "Epoch 87/100\n",
      "50000/50000 [==============================] - 26s 522us/step - loss: 0.3364 - acc: 0.8785 - val_loss: 2.8141 - val_acc: 0.4923\n",
      "Epoch 88/100\n",
      "50000/50000 [==============================] - 26s 522us/step - loss: 0.3679 - acc: 0.8663 - val_loss: 2.8585 - val_acc: 0.4868\n",
      "Epoch 89/100\n",
      "50000/50000 [==============================] - 26s 515us/step - loss: 0.3506 - acc: 0.8737 - val_loss: 2.9154 - val_acc: 0.4857\n",
      "Epoch 90/100\n",
      "50000/50000 [==============================] - 26s 514us/step - loss: 0.3225 - acc: 0.8843 - val_loss: 2.8342 - val_acc: 0.4863\n",
      "Epoch 91/100\n",
      "50000/50000 [==============================] - 26s 520us/step - loss: 0.2989 - acc: 0.8948 - val_loss: 2.9900 - val_acc: 0.4926\n",
      "Epoch 92/100\n",
      "50000/50000 [==============================] - 26s 519us/step - loss: 0.2988 - acc: 0.8937 - val_loss: 3.0427 - val_acc: 0.4888\n",
      "Epoch 93/100\n",
      "50000/50000 [==============================] - 27s 531us/step - loss: 0.3357 - acc: 0.8800 - val_loss: 2.9274 - val_acc: 0.4953\n",
      "Epoch 94/100\n",
      "50000/50000 [==============================] - 26s 521us/step - loss: 0.2597 - acc: 0.9075 - val_loss: 3.0309 - val_acc: 0.4860\n",
      "Epoch 95/100\n",
      "50000/50000 [==============================] - 27s 531us/step - loss: 0.2799 - acc: 0.8991 - val_loss: 3.0747 - val_acc: 0.4906\n",
      "Epoch 96/100\n",
      "50000/50000 [==============================] - 27s 537us/step - loss: 0.2946 - acc: 0.8947 - val_loss: 3.2118 - val_acc: 0.4820\n",
      "Epoch 97/100\n",
      "50000/50000 [==============================] - 26s 523us/step - loss: 0.3155 - acc: 0.8880 - val_loss: 2.9821 - val_acc: 0.4867\n",
      "Epoch 98/100\n",
      "50000/50000 [==============================] - 26s 522us/step - loss: 0.3014 - acc: 0.8924 - val_loss: 2.9492 - val_acc: 0.4884\n",
      "Epoch 99/100\n",
      "50000/50000 [==============================] - 26s 518us/step - loss: 0.3237 - acc: 0.8840 - val_loss: 3.0052 - val_acc: 0.4825\n",
      "Epoch 100/100\n",
      "50000/50000 [==============================] - 26s 528us/step - loss: 0.3009 - acc: 0.8937 - val_loss: 3.0289 - val_acc: 0.4719\n"
     ]
    },
    {
     "data": {
      "text/plain": [
       "<keras.callbacks.History at 0x16597630>"
      ]
     },
     "execution_count": 20,
     "metadata": {},
     "output_type": "execute_result"
    }
   ],
   "source": [
    "model.fit(x_train, y_train, \n",
    "          epochs=EPOCHS, \n",
    "          batch_size=BATCH_SIZE, \n",
    "          validation_data=(x_test, y_test), \n",
    "          shuffle=True)"
   ]
  },
  {
   "cell_type": "code",
   "execution_count": 14,
   "metadata": {},
   "outputs": [
    {
     "data": {
      "image/png": "[encoded data removed]",
      "text/plain": [
       "<Figure size 432x288 with 1 Axes>"
      ]
     },
     "metadata": {},
     "output_type": "display_data"
    },
    {
     "data": {
      "image/png": "[encoded data removed]",
      "text/plain": [
       "<Figure size 432x288 with 1 Axes>"
      ]
     },
     "metadata": {},
     "output_type": "display_data"
    }
   ],
   "source": [
    "import matplotlib.pyplot as plt\n",
    "\n",
    "\n",
    "train_loss = model.history.history[\"loss\"]\n",
    "valid_loss = model.history.history[\"val_loss\"]\n",
    "\n",
    "train_acc = model.history.history[\"acc\"]\n",
    "valid_acc = model.history.history[\"val_acc\"]\n",
    "\n",
    "plt.plot(range(len(train_loss)), train_loss, label=\"train loss\")\n",
    "plt.plot(range(len(valid_loss)), valid_loss, label=\"valid loss\")\n",
    "plt.legend()\n",
    "plt.title(\"Loss\")\n",
    "plt.show()\n",
    "\n",
    "plt.plot(range(len(train_acc)), train_acc, label=\"train accuracy\")\n",
    "plt.plot(range(len(valid_acc)), valid_acc, label=\"valid accuracy\")\n",
    "plt.legend()\n",
    "plt.title(\"Accuracy\")\n",
    "plt.show()"
   ]
  },
  {
   "cell_type": "code",
   "execution_count": null,
   "metadata": {
    "collapsed": true
   },
   "outputs": [],
   "source": []
  }
 ],
 "metadata": {
  "kernelspec": {
   "display_name": "Python 3",
   "language": "python",
   "name": "python3"
  },
  "language_info": {
   "codemirror_mode": {
    "name": "ipython",
    "version": 3
   },
   "file_extension": ".py",
   "mimetype": "text/x-python",
   "name": "python",
   "nbconvert_exporter": "python",
   "pygments_lexer": "ipython3",
   "version": "3.6.3"
  }
 },
 "nbformat": 4,
 "nbformat_minor": 2
}
