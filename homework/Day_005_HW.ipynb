{
 "cells": [
  {
   "cell_type": "code",
   "execution_count": 1,
   "metadata": {},
   "outputs": [],
   "source": [
    "# Import 需要的套件\n",
    "import os\n",
    "import numpy as np\n",
    "import pandas as pd\n",
    "\n",
    "# 設定 data_path\n",
    "dir_data = '../data/official/Part01'"
   ]
  },
  {
   "cell_type": "code",
   "execution_count": 2,
   "metadata": {},
   "outputs": [],
   "source": [
    "f_app_train = os.path.join(dir_data, 'application_train.csv')\n",
    "app_train = pd.read_csv(f_app_train)"
   ]
  },
  {
   "cell_type": "code",
   "execution_count": 3,
   "metadata": {},
   "outputs": [],
   "source": [
    "import matplotlib.pyplot as plt\n",
    "%matplotlib inline"
   ]
  },
  {
   "cell_type": "markdown",
   "metadata": {},
   "source": [
    "## 練習時間"
   ]
  },
  {
   "cell_type": "markdown",
   "metadata": {},
   "source": [
    "觀察有興趣的欄位的資料分佈，並嘗試找出有趣的訊息\n",
    "#### Eg\n",
    "- 計算任意欄位的平均數及標準差\n",
    "- 畫出任意欄位的[直方圖](https://zh.wikipedia.org/zh-tw/%E7%9B%B4%E6%96%B9%E5%9B%BE)\n",
    "\n",
    "### Hints:\n",
    "- [Descriptive Statistics For pandas Dataframe](https://chrisalbon.com/python/data_wrangling/pandas_dataframe_descriptive_stats/)\n",
    "- [pandas 中的繪圖函數](https://amaozhao.gitbooks.io/pandas-notebook/content/pandas%E4%B8%AD%E7%9A%84%E7%BB%98%E5%9B%BE%E5%87%BD%E6%95%B0.html)\n"
   ]
  },
  {
   "cell_type": "code",
   "execution_count": 4,
   "metadata": {},
   "outputs": [
    {
     "name": "stdout",
     "output_type": "stream",
     "text": [
      "Index(['SK_ID_CURR', 'TARGET', 'NAME_CONTRACT_TYPE', 'CODE_GENDER',\n",
      "       'FLAG_OWN_CAR', 'FLAG_OWN_REALTY', 'CNT_CHILDREN', 'AMT_INCOME_TOTAL',\n",
      "       'AMT_CREDIT', 'AMT_ANNUITY',\n",
      "       ...\n",
      "       'FLAG_DOCUMENT_18', 'FLAG_DOCUMENT_19', 'FLAG_DOCUMENT_20',\n",
      "       'FLAG_DOCUMENT_21', 'AMT_REQ_CREDIT_BUREAU_HOUR',\n",
      "       'AMT_REQ_CREDIT_BUREAU_DAY', 'AMT_REQ_CREDIT_BUREAU_WEEK',\n",
      "       'AMT_REQ_CREDIT_BUREAU_MON', 'AMT_REQ_CREDIT_BUREAU_QRT',\n",
      "       'AMT_REQ_CREDIT_BUREAU_YEAR'],\n",
      "      dtype='object', length=122)\n",
      "<class 'pandas.core.frame.DataFrame'>\n",
      "RangeIndex: 307511 entries, 0 to 307510\n",
      "Data columns (total 122 columns):\n",
      "SK_ID_CURR                      307511 non-null int64\n",
      "TARGET                          307511 non-null int64\n",
      "NAME_CONTRACT_TYPE              307511 non-null object\n",
      "CODE_GENDER                     307511 non-null object\n",
      "FLAG_OWN_CAR                    307511 non-null object\n",
      "FLAG_OWN_REALTY                 307511 non-null object\n",
      "CNT_CHILDREN                    307511 non-null int64\n",
      "AMT_INCOME_TOTAL                307511 non-null float64\n",
      "AMT_CREDIT                      307511 non-null float64\n",
      "AMT_ANNUITY                     307499 non-null float64\n",
      "AMT_GOODS_PRICE                 307233 non-null float64\n",
      "NAME_TYPE_SUITE                 306219 non-null object\n",
      "NAME_INCOME_TYPE                307511 non-null object\n",
      "NAME_EDUCATION_TYPE             307511 non-null object\n",
      "NAME_FAMILY_STATUS              307511 non-null object\n",
      "NAME_HOUSING_TYPE               307511 non-null object\n",
      "REGION_POPULATION_RELATIVE      307511 non-null float64\n",
      "DAYS_BIRTH                      307511 non-null int64\n",
      "DAYS_EMPLOYED                   307511 non-null int64\n",
      "DAYS_REGISTRATION               307511 non-null float64\n",
      "DAYS_ID_PUBLISH                 307511 non-null int64\n",
      "OWN_CAR_AGE                     104582 non-null float64\n",
      "FLAG_MOBIL                      307511 non-null int64\n",
      "FLAG_EMP_PHONE                  307511 non-null int64\n",
      "FLAG_WORK_PHONE                 307511 non-null int64\n",
      "FLAG_CONT_MOBILE                307511 non-null int64\n",
      "FLAG_PHONE                      307511 non-null int64\n",
      "FLAG_EMAIL                      307511 non-null int64\n",
      "OCCUPATION_TYPE                 211120 non-null object\n",
      "CNT_FAM_MEMBERS                 307509 non-null float64\n",
      "REGION_RATING_CLIENT            307511 non-null int64\n",
      "REGION_RATING_CLIENT_W_CITY     307511 non-null int64\n",
      "WEEKDAY_APPR_PROCESS_START      307511 non-null object\n",
      "HOUR_APPR_PROCESS_START         307511 non-null int64\n",
      "REG_REGION_NOT_LIVE_REGION      307511 non-null int64\n",
      "REG_REGION_NOT_WORK_REGION      307511 non-null int64\n",
      "LIVE_REGION_NOT_WORK_REGION     307511 non-null int64\n",
      "REG_CITY_NOT_LIVE_CITY          307511 non-null int64\n",
      "REG_CITY_NOT_WORK_CITY          307511 non-null int64\n",
      "LIVE_CITY_NOT_WORK_CITY         307511 non-null int64\n",
      "ORGANIZATION_TYPE               307511 non-null object\n",
      "EXT_SOURCE_1                    134133 non-null float64\n",
      "EXT_SOURCE_2                    306851 non-null float64\n",
      "EXT_SOURCE_3                    246546 non-null float64\n",
      "APARTMENTS_AVG                  151450 non-null float64\n",
      "BASEMENTAREA_AVG                127568 non-null float64\n",
      "YEARS_BEGINEXPLUATATION_AVG     157504 non-null float64\n",
      "YEARS_BUILD_AVG                 103023 non-null float64\n",
      "COMMONAREA_AVG                  92646 non-null float64\n",
      "ELEVATORS_AVG                   143620 non-null float64\n",
      "ENTRANCES_AVG                   152683 non-null float64\n",
      "FLOORSMAX_AVG                   154491 non-null float64\n",
      "FLOORSMIN_AVG                   98869 non-null float64\n",
      "LANDAREA_AVG                    124921 non-null float64\n",
      "LIVINGAPARTMENTS_AVG            97312 non-null float64\n",
      "LIVINGAREA_AVG                  153161 non-null float64\n",
      "NONLIVINGAPARTMENTS_AVG         93997 non-null float64\n",
      "NONLIVINGAREA_AVG               137829 non-null float64\n",
      "APARTMENTS_MODE                 151450 non-null float64\n",
      "BASEMENTAREA_MODE               127568 non-null float64\n",
      "YEARS_BEGINEXPLUATATION_MODE    157504 non-null float64\n",
      "YEARS_BUILD_MODE                103023 non-null float64\n",
      "COMMONAREA_MODE                 92646 non-null float64\n",
      "ELEVATORS_MODE                  143620 non-null float64\n",
      "ENTRANCES_MODE                  152683 non-null float64\n",
      "FLOORSMAX_MODE                  154491 non-null float64\n",
      "FLOORSMIN_MODE                  98869 non-null float64\n",
      "LANDAREA_MODE                   124921 non-null float64\n",
      "LIVINGAPARTMENTS_MODE           97312 non-null float64\n",
      "LIVINGAREA_MODE                 153161 non-null float64\n",
      "NONLIVINGAPARTMENTS_MODE        93997 non-null float64\n",
      "NONLIVINGAREA_MODE              137829 non-null float64\n",
      "APARTMENTS_MEDI                 151450 non-null float64\n",
      "BASEMENTAREA_MEDI               127568 non-null float64\n",
      "YEARS_BEGINEXPLUATATION_MEDI    157504 non-null float64\n",
      "YEARS_BUILD_MEDI                103023 non-null float64\n",
      "COMMONAREA_MEDI                 92646 non-null float64\n",
      "ELEVATORS_MEDI                  143620 non-null float64\n",
      "ENTRANCES_MEDI                  152683 non-null float64\n",
      "FLOORSMAX_MEDI                  154491 non-null float64\n",
      "FLOORSMIN_MEDI                  98869 non-null float64\n",
      "LANDAREA_MEDI                   124921 non-null float64\n",
      "LIVINGAPARTMENTS_MEDI           97312 non-null float64\n",
      "LIVINGAREA_MEDI                 153161 non-null float64\n",
      "NONLIVINGAPARTMENTS_MEDI        93997 non-null float64\n",
      "NONLIVINGAREA_MEDI              137829 non-null float64\n",
      "FONDKAPREMONT_MODE              97216 non-null object\n",
      "HOUSETYPE_MODE                  153214 non-null object\n",
      "TOTALAREA_MODE                  159080 non-null float64\n",
      "WALLSMATERIAL_MODE              151170 non-null object\n",
      "EMERGENCYSTATE_MODE             161756 non-null object\n",
      "OBS_30_CNT_SOCIAL_CIRCLE        306490 non-null float64\n",
      "DEF_30_CNT_SOCIAL_CIRCLE        306490 non-null float64\n",
      "OBS_60_CNT_SOCIAL_CIRCLE        306490 non-null float64\n",
      "DEF_60_CNT_SOCIAL_CIRCLE        306490 non-null float64\n",
      "DAYS_LAST_PHONE_CHANGE          307510 non-null float64\n",
      "FLAG_DOCUMENT_2                 307511 non-null int64\n",
      "FLAG_DOCUMENT_3                 307511 non-null int64\n",
      "FLAG_DOCUMENT_4                 307511 non-null int64\n",
      "FLAG_DOCUMENT_5                 307511 non-null int64\n",
      "FLAG_DOCUMENT_6                 307511 non-null int64\n",
      "FLAG_DOCUMENT_7                 307511 non-null int64\n",
      "FLAG_DOCUMENT_8                 307511 non-null int64\n",
      "FLAG_DOCUMENT_9                 307511 non-null int64\n",
      "FLAG_DOCUMENT_10                307511 non-null int64\n",
      "FLAG_DOCUMENT_11                307511 non-null int64\n",
      "FLAG_DOCUMENT_12                307511 non-null int64\n",
      "FLAG_DOCUMENT_13                307511 non-null int64\n",
      "FLAG_DOCUMENT_14                307511 non-null int64\n",
      "FLAG_DOCUMENT_15                307511 non-null int64\n",
      "FLAG_DOCUMENT_16                307511 non-null int64\n",
      "FLAG_DOCUMENT_17                307511 non-null int64\n",
      "FLAG_DOCUMENT_18                307511 non-null int64\n",
      "FLAG_DOCUMENT_19                307511 non-null int64\n",
      "FLAG_DOCUMENT_20                307511 non-null int64\n",
      "FLAG_DOCUMENT_21                307511 non-null int64\n",
      "AMT_REQ_CREDIT_BUREAU_HOUR      265992 non-null float64\n",
      "AMT_REQ_CREDIT_BUREAU_DAY       265992 non-null float64\n",
      "AMT_REQ_CREDIT_BUREAU_WEEK      265992 non-null float64\n",
      "AMT_REQ_CREDIT_BUREAU_MON       265992 non-null float64\n",
      "AMT_REQ_CREDIT_BUREAU_QRT       265992 non-null float64\n",
      "AMT_REQ_CREDIT_BUREAU_YEAR      265992 non-null float64\n",
      "dtypes: float64(65), int64(41), object(16)\n",
      "memory usage: 286.2+ MB\n"
     ]
    }
   ],
   "source": [
    "col_list = app_train.columns\n",
    "print(col_list)\n",
    "app_train.info(max_cols = 200)"
   ]
  },
  {
   "cell_type": "code",
   "execution_count": 5,
   "metadata": {},
   "outputs": [
    {
     "name": "stdout",
     "output_type": "stream",
     "text": [
      "0.7221213844389559\n",
      "0.4170517477423572\n"
     ]
    }
   ],
   "source": [
    "print(app_train['CNT_CHILDREN'].std())\n",
    "print(app_train['CNT_CHILDREN'].mean())"
   ]
  },
  {
   "cell_type": "code",
   "execution_count": 38,
   "metadata": {},
   "outputs": [
    {
     "data": {
      "text/plain": [
       "array([[<matplotlib.axes._subplots.AxesSubplot object at 0x000000001D4D6AC8>,\n",
       "        <matplotlib.axes._subplots.AxesSubplot object at 0x0000000008E449B0>],\n",
       "       [<matplotlib.axes._subplots.AxesSubplot object at 0x000000000917CA20>,\n",
       "        <matplotlib.axes._subplots.AxesSubplot object at 0x00000000053E49B0>],\n",
       "       [<matplotlib.axes._subplots.AxesSubplot object at 0x000000001D33F208>,\n",
       "        <matplotlib.axes._subplots.AxesSubplot object at 0x0000000008E574E0>]],\n",
       "      dtype=object)"
      ]
     },
     "execution_count": 38,
     "metadata": {},
     "output_type": "execute_result"
    },
    {
     "data": {
      "image/png": "[encoded data removed]",
      "text/plain": [
       "<Figure size 432x288 with 6 Axes>"
      ]
     },
     "metadata": {},
     "output_type": "display_data"
    }
   ],
   "source": [
    "hist_df.hist(column=['AMT_CREDIT', 'APARTMENTS_MODE', 'CNT_FAM_MEMBERS', 'FLOORSMAX_MODE','REGION_POPULATION_RELATIVE']) "
   ]
  },
  {
   "cell_type": "code",
   "execution_count": 46,
   "metadata": {
    "scrolled": true
   },
   "outputs": [
    {
     "data": {
      "image/png": "[encoded data removed]",
      "text/plain": [
       "<Figure size 432x288 with 1 Axes>"
      ]
     },
     "metadata": {},
     "output_type": "display_data"
    }
   ],
   "source": [
    "hist_df1 = hist_df[['REGION_POPULATION_RELATIVE','AMT_CREDIT']]\n",
    "ax = hist_df1.plot.hist(bins=10, alpha=0.5)"
   ]
  },
  {
   "cell_type": "code",
   "execution_count": null,
   "metadata": {},
   "outputs": [],
   "source": []
  }
 ],
 "metadata": {
  "kernelspec": {
   "display_name": "Python 3",
   "language": "python",
   "name": "python3"
  },
  "language_info": {
   "codemirror_mode": {
    "name": "ipython",
    "version": 3
   },
   "file_extension": ".py",
   "mimetype": "text/x-python",
   "name": "python",
   "nbconvert_exporter": "python",
   "pygments_lexer": "ipython3",
   "version": "3.6.5"
  }
 },
 "nbformat": 4,
 "nbformat_minor": 2
}
